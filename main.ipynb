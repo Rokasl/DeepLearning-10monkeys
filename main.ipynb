{
 "cells": [
  {
   "cell_type": "markdown",
   "metadata": {},
   "source": [
    "# 10 Monkey Species Image Dataset Analysis\n",
    "\n",
    "Module: CS985 Machine Learning For Data Analytics\n",
    "\n",
    "Student: Rokas Labeikis\n",
    "\n",
    "Student ID: 201349799\n",
    "\n",
    "## Objective and problem\n",
    "\n",
    "The core problem of the assignment is to classify any image (with monkeys in it) from a list into 1 of 10 classes.\n",
    "\n",
    "The objective is to create an sufficient classifier which performs well. However, more importantly for the author is to learn and explore machine learning framework Tensorflow. Due to the later reason, more than 1 approach of image classification will be researched and the performance of the models will not be considered a priority.\n",
    "\n",
    "Explored techniques include:\n",
    "- Linear image classification;\n",
    "- Transfer learning;\n",
    "- Convolutional Neural Networks.\n",
    "\n",
    "## Development environment"
   ]
  },
  {
   "cell_type": "code",
   "execution_count": 2,
   "metadata": {},
   "outputs": [
    {
     "name": "stdout",
     "output_type": "stream",
     "text": [
      "('TensorFlow version: ', '1.7.0')\n",
      "('Python version: ', '2.7.13')\n"
     ]
    }
   ],
   "source": [
    "# Importing neccesary modules\n",
    "import warnings\n",
    "warnings.simplefilter(action='ignore')\n",
    "import tensorflow as tf\n",
    "import tensorflow_hub as hub\n",
    "import numpy as np \n",
    "import pandas as pd \n",
    "import matplotlib.pyplot as plt\n",
    "import glob\n",
    "import os\n",
    "import cv2\n",
    "from pathlib import Path\n",
    "from sklearn.preprocessing import LabelEncoder\n",
    "from sklearn.preprocessing import OneHotEncoder\n",
    "import platform\n",
    "from __future__ import division\n",
    "import seaborn as sns\n",
    "from IPython.display import Image\n",
    "from sklearn import metrics\n",
    "warnings.resetwarnings()\n",
    "\n",
    "# Versions used\n",
    "print('TensorFlow version: ', tf.__version__) # 1.7.0\n",
    "print('Python version: ', platform.python_version()) # 2.7.13"
   ]
  },
  {
   "cell_type": "markdown",
   "metadata": {},
   "source": [
    "## Introduction to the dataset"
   ]
  },
  {
   "cell_type": "markdown",
   "metadata": {},
   "source": [
    "Analyzed dataset was taken from www.kaggle.com and it is called \"10 Monkey Species\". The original dataset consists of 2 directories (\"training\" and \"validation\") and a text file containing all the labels and titles. Each directory  contains 10 subdirectories, labeled from \"n0\" to \"n9\". Finally, each subdirectory contains a series of images (images are 400x300 px or larger and JPEG format) of a certain class.\n",
    "\n",
    "Below the contents of the \"monkey_labels.txt\" file are presented. The table encompasses the overall structure of the dataset."
   ]
  },
  {
   "cell_type": "code",
   "execution_count": 3,
   "metadata": {},
   "outputs": [
    {
     "data": {
      "text/html": [
       "<div>\n",
       "<style>\n",
       "    .dataframe thead tr:only-child th {\n",
       "        text-align: right;\n",
       "    }\n",
       "\n",
       "    .dataframe thead th {\n",
       "        text-align: left;\n",
       "    }\n",
       "\n",
       "    .dataframe tbody tr th {\n",
       "        vertical-align: top;\n",
       "    }\n",
       "</style>\n",
       "<table border=\"1\" class=\"dataframe\">\n",
       "  <thead>\n",
       "    <tr style=\"text-align: right;\">\n",
       "      <th></th>\n",
       "      <th>Label</th>\n",
       "      <th>Latin Name</th>\n",
       "      <th>Common Name</th>\n",
       "      <th>Train Images</th>\n",
       "      <th>Validation Images</th>\n",
       "    </tr>\n",
       "  </thead>\n",
       "  <tbody>\n",
       "    <tr>\n",
       "      <th>0</th>\n",
       "      <td>n0</td>\n",
       "      <td>alouatta_palliata\\t</td>\n",
       "      <td>mantled_howler</td>\n",
       "      <td>131</td>\n",
       "      <td>26</td>\n",
       "    </tr>\n",
       "    <tr>\n",
       "      <th>1</th>\n",
       "      <td>n1</td>\n",
       "      <td>erythrocebus_patas\\t</td>\n",
       "      <td>patas_monkey</td>\n",
       "      <td>139</td>\n",
       "      <td>28</td>\n",
       "    </tr>\n",
       "    <tr>\n",
       "      <th>2</th>\n",
       "      <td>n2</td>\n",
       "      <td>cacajao_calvus\\t</td>\n",
       "      <td>bald_uakari</td>\n",
       "      <td>137</td>\n",
       "      <td>27</td>\n",
       "    </tr>\n",
       "    <tr>\n",
       "      <th>3</th>\n",
       "      <td>n3</td>\n",
       "      <td>macaca_fuscata\\t</td>\n",
       "      <td>japanese_macaque</td>\n",
       "      <td>152</td>\n",
       "      <td>30</td>\n",
       "    </tr>\n",
       "    <tr>\n",
       "      <th>4</th>\n",
       "      <td>n4</td>\n",
       "      <td>cebuella_pygmea\\t</td>\n",
       "      <td>pygmy_marmoset</td>\n",
       "      <td>131</td>\n",
       "      <td>26</td>\n",
       "    </tr>\n",
       "    <tr>\n",
       "      <th>5</th>\n",
       "      <td>n5</td>\n",
       "      <td>cebus_capucinus\\t</td>\n",
       "      <td>white_headed_capuchin</td>\n",
       "      <td>141</td>\n",
       "      <td>28</td>\n",
       "    </tr>\n",
       "    <tr>\n",
       "      <th>6</th>\n",
       "      <td>n6</td>\n",
       "      <td>mico_argentatus\\t</td>\n",
       "      <td>silvery_marmoset</td>\n",
       "      <td>132</td>\n",
       "      <td>26</td>\n",
       "    </tr>\n",
       "    <tr>\n",
       "      <th>7</th>\n",
       "      <td>n7</td>\n",
       "      <td>saimiri_sciureus\\t</td>\n",
       "      <td>common_squirrel_monkey</td>\n",
       "      <td>142</td>\n",
       "      <td>28</td>\n",
       "    </tr>\n",
       "    <tr>\n",
       "      <th>8</th>\n",
       "      <td>n8</td>\n",
       "      <td>aotus_nigriceps\\t</td>\n",
       "      <td>black_headed_night_monkey</td>\n",
       "      <td>133</td>\n",
       "      <td>27</td>\n",
       "    </tr>\n",
       "    <tr>\n",
       "      <th>9</th>\n",
       "      <td>n9</td>\n",
       "      <td>trachypithecus_johnii</td>\n",
       "      <td>nilgiri_langur</td>\n",
       "      <td>132</td>\n",
       "      <td>26</td>\n",
       "    </tr>\n",
       "  </tbody>\n",
       "</table>\n",
       "</div>"
      ],
      "text/plain": [
       "   Label                Latin Name                      Common Name  \\\n",
       "0  n0         alouatta_palliata\\t    mantled_howler                   \n",
       "1  n1        erythrocebus_patas\\t    patas_monkey                     \n",
       "2  n2        cacajao_calvus\\t        bald_uakari                      \n",
       "3  n3        macaca_fuscata\\t        japanese_macaque                 \n",
       "4  n4       cebuella_pygmea\\t        pygmy_marmoset                   \n",
       "5  n5       cebus_capucinus\\t        white_headed_capuchin            \n",
       "6  n6       mico_argentatus\\t        silvery_marmoset                 \n",
       "7  n7      saimiri_sciureus\\t        common_squirrel_monkey           \n",
       "8  n8       aotus_nigriceps\\t        black_headed_night_monkey        \n",
       "9  n9       trachypithecus_johnii    nilgiri_langur                   \n",
       "\n",
       "   Train Images  Validation Images  \n",
       "0           131                 26  \n",
       "1           139                 28  \n",
       "2           137                 27  \n",
       "3           152                 30  \n",
       "4           131                 26  \n",
       "5           141                 28  \n",
       "6           132                 26  \n",
       "7           142                 28  \n",
       "8           133                 27  \n",
       "9           132                 26  "
      ]
     },
     "execution_count": 3,
     "metadata": {},
     "output_type": "execute_result"
    }
   ],
   "source": [
    "info = pd.read_csv(\"input/monkey_labels.txt\", names=['Label','Latin Name', 'Common Name','Train Images', 'Validation Images'], skiprows=1)\n",
    "info"
   ]
  },
  {
   "cell_type": "markdown",
   "metadata": {},
   "source": [
    "## Obtaining and preparing the dataset"
   ]
  },
  {
   "cell_type": "code",
   "execution_count": 4,
   "metadata": {
    "collapsed": true
   },
   "outputs": [],
   "source": [
    "# Defining input directory paths\n",
    "train_dir = 'input/training'\n",
    "test_dir = 'input/validation'\n",
    "\n",
    "# label map\n",
    "map_labels = {'n0': 'mantled_howler',\n",
    "              'n1': 'patas_monkey',\n",
    "              'n2': 'bald_uakari',\n",
    "              'n3': 'japanese_macaque',\n",
    "              'n4': 'pygmy_marmoset',\n",
    "              'n5': 'white_headed_capuchin',\n",
    "              'n6': 'silvery_marmoset',\n",
    "              'n7': 'common_squirrel_monkey',\n",
    "              'n8': 'black_headed_night_monkey',\n",
    "              'n9': 'nilgiri_langur'}"
   ]
  },
  {
   "cell_type": "markdown",
   "metadata": {},
   "source": [
    "Below \"read_data\" function is defined. This function takes some directory as an input and produces a data frame after its done. The produced data frame consist of numerical image representation, its label, path to the real image, integer encoded label and one hot encoded label. "
   ]
  },
  {
   "cell_type": "code",
   "execution_count": 5,
   "metadata": {
    "collapsed": true
   },
   "outputs": [],
   "source": [
    "def read_data(filename):\n",
    "    images = []\n",
    "    labels = []\n",
    "    paths = []\n",
    "    i = 0\n",
    "    for dir_path in glob.glob(filename + \"/*\"):\n",
    "        label = dir_path.split(\"/\")[-1]\n",
    "        for image_path in glob.glob(os.path.join(dir_path, \"*.jpg\")):\n",
    "            image = cv2.imread(image_path, cv2.IMREAD_COLOR)\n",
    "            # Adjust stored image size if necessary\n",
    "            image = cv2.resize(image, (1, 1))\n",
    "            image = cv2.cvtColor(image, cv2.COLOR_RGB2BGR)\n",
    "            \n",
    "            labels.append(label)\n",
    "            images.append(image)\n",
    "            paths.append(image_path)\n",
    "            \n",
    "    # integer encode\n",
    "    label_encoder = LabelEncoder()\n",
    "    integer_encoded = label_encoder.fit_transform(labels)\n",
    "    # one hot binary encode \n",
    "    onehot_encoder = OneHotEncoder(sparse=False)\n",
    "    i_encoded = integer_encoded.reshape(len(integer_encoded), 1)\n",
    "    onehot_encoded = onehot_encoder.fit_transform(i_encoded)\n",
    "    \n",
    "    d = {'images':images,'labels':labels, 'path': paths, 'int':integer_encoded, 'hot': onehot_encoded.tolist()}\n",
    "\n",
    "    df = pd.DataFrame(d)\n",
    "    return df\n",
    "\n",
    "train = read_data(train_dir)\n",
    "test = read_data(test_dir)\n",
    "# Write data to csv files for future use \n",
    "train.to_csv('./input/train.csv', index=False) \n",
    "test.to_csv('./input/test.csv',  index=False)"
   ]
  },
  {
   "cell_type": "code",
   "execution_count": 6,
   "metadata": {},
   "outputs": [
    {
     "data": {
      "text/html": [
       "<div>\n",
       "<style>\n",
       "    .dataframe thead tr:only-child th {\n",
       "        text-align: right;\n",
       "    }\n",
       "\n",
       "    .dataframe thead th {\n",
       "        text-align: left;\n",
       "    }\n",
       "\n",
       "    .dataframe tbody tr th {\n",
       "        vertical-align: top;\n",
       "    }\n",
       "</style>\n",
       "<table border=\"1\" class=\"dataframe\">\n",
       "  <thead>\n",
       "    <tr style=\"text-align: right;\">\n",
       "      <th></th>\n",
       "      <th>hot</th>\n",
       "      <th>images</th>\n",
       "      <th>int</th>\n",
       "      <th>labels</th>\n",
       "      <th>path</th>\n",
       "    </tr>\n",
       "  </thead>\n",
       "  <tbody>\n",
       "    <tr>\n",
       "      <th>0</th>\n",
       "      <td>[0.0, 0.0, 0.0, 1.0, 0.0, 0.0, 0.0, 0.0, 0.0, ...</td>\n",
       "      <td>[[[215, 209, 194]]]</td>\n",
       "      <td>3</td>\n",
       "      <td>n3</td>\n",
       "      <td>input/training/n3/n3049.jpg</td>\n",
       "    </tr>\n",
       "    <tr>\n",
       "      <th>1</th>\n",
       "      <td>[0.0, 0.0, 0.0, 1.0, 0.0, 0.0, 0.0, 0.0, 0.0, ...</td>\n",
       "      <td>[[[90, 73, 65]]]</td>\n",
       "      <td>3</td>\n",
       "      <td>n3</td>\n",
       "      <td>input/training/n3/n3133.jpg</td>\n",
       "    </tr>\n",
       "    <tr>\n",
       "      <th>2</th>\n",
       "      <td>[0.0, 0.0, 0.0, 1.0, 0.0, 0.0, 0.0, 0.0, 0.0, ...</td>\n",
       "      <td>[[[170, 167, 157]]]</td>\n",
       "      <td>3</td>\n",
       "      <td>n3</td>\n",
       "      <td>input/training/n3/n3170.jpg</td>\n",
       "    </tr>\n",
       "    <tr>\n",
       "      <th>3</th>\n",
       "      <td>[0.0, 0.0, 0.0, 1.0, 0.0, 0.0, 0.0, 0.0, 0.0, ...</td>\n",
       "      <td>[[[142, 132, 133]]]</td>\n",
       "      <td>3</td>\n",
       "      <td>n3</td>\n",
       "      <td>input/training/n3/n3064.jpg</td>\n",
       "    </tr>\n",
       "    <tr>\n",
       "      <th>4</th>\n",
       "      <td>[0.0, 0.0, 0.0, 1.0, 0.0, 0.0, 0.0, 0.0, 0.0, ...</td>\n",
       "      <td>[[[228, 235, 245]]]</td>\n",
       "      <td>3</td>\n",
       "      <td>n3</td>\n",
       "      <td>input/training/n3/n3135.jpg</td>\n",
       "    </tr>\n",
       "  </tbody>\n",
       "</table>\n",
       "</div>"
      ],
      "text/plain": [
       "                                                 hot               images  \\\n",
       "0  [0.0, 0.0, 0.0, 1.0, 0.0, 0.0, 0.0, 0.0, 0.0, ...  [[[215, 209, 194]]]   \n",
       "1  [0.0, 0.0, 0.0, 1.0, 0.0, 0.0, 0.0, 0.0, 0.0, ...     [[[90, 73, 65]]]   \n",
       "2  [0.0, 0.0, 0.0, 1.0, 0.0, 0.0, 0.0, 0.0, 0.0, ...  [[[170, 167, 157]]]   \n",
       "3  [0.0, 0.0, 0.0, 1.0, 0.0, 0.0, 0.0, 0.0, 0.0, ...  [[[142, 132, 133]]]   \n",
       "4  [0.0, 0.0, 0.0, 1.0, 0.0, 0.0, 0.0, 0.0, 0.0, ...  [[[228, 235, 245]]]   \n",
       "\n",
       "   int labels                         path  \n",
       "0    3     n3  input/training/n3/n3049.jpg  \n",
       "1    3     n3  input/training/n3/n3133.jpg  \n",
       "2    3     n3  input/training/n3/n3170.jpg  \n",
       "3    3     n3  input/training/n3/n3064.jpg  \n",
       "4    3     n3  input/training/n3/n3135.jpg  "
      ]
     },
     "execution_count": 6,
     "metadata": {},
     "output_type": "execute_result"
    }
   ],
   "source": [
    "train.head() # first few rows of generated dataframe"
   ]
  },
  {
   "cell_type": "markdown",
   "metadata": {},
   "source": [
    "Some checks to make sure everything went smoothly with the input reading."
   ]
  },
  {
   "cell_type": "code",
   "execution_count": 7,
   "metadata": {},
   "outputs": [
    {
     "data": {
      "text/plain": [
       "hot       0\n",
       "images    0\n",
       "int       0\n",
       "labels    0\n",
       "path      0\n",
       "dtype: int64"
      ]
     },
     "execution_count": 7,
     "metadata": {},
     "output_type": "execute_result"
    }
   ],
   "source": [
    "train.isnull().sum() # checking for missing values in the dataframe"
   ]
  },
  {
   "cell_type": "code",
   "execution_count": 8,
   "metadata": {},
   "outputs": [
    {
     "data": {
      "text/plain": [
       "hot       0\n",
       "images    0\n",
       "int       0\n",
       "labels    0\n",
       "path      0\n",
       "dtype: int64"
      ]
     },
     "execution_count": 8,
     "metadata": {},
     "output_type": "execute_result"
    }
   ],
   "source": [
    "test.isnull().sum()"
   ]
  },
  {
   "cell_type": "code",
   "execution_count": 9,
   "metadata": {},
   "outputs": [
    {
     "name": "stdout",
     "output_type": "stream",
     "text": [
      "Index([u'hot', u'images', u'int', u'labels', u'path'], dtype='object')\n"
     ]
    }
   ],
   "source": [
    "print(train.columns) # making sure column structure is as expected"
   ]
  },
  {
   "cell_type": "markdown",
   "metadata": {},
   "source": [
    "## Exploring the dataset\n",
    "\n",
    "There are 1096 images dedicated for model training and 272 for testing. In total there are 1368 number of images."
   ]
  },
  {
   "cell_type": "code",
   "execution_count": 10,
   "metadata": {},
   "outputs": [
    {
     "name": "stdout",
     "output_type": "stream",
     "text": [
      "(1096, 5)\n",
      "(272, 5)\n",
      "('Total entries: ', 1368)\n"
     ]
    }
   ],
   "source": [
    "print(train.shape)\n",
    "print(test.shape)\n",
    "print(\"Total entries: \", len(train)+len(test))"
   ]
  },
  {
   "cell_type": "markdown",
   "metadata": {
    "collapsed": true
   },
   "source": [
    "Random sample of 9 images along with their labels are printed below. This is done in order to see the type of images we are dealing with and if the labels are matching correctly."
   ]
  },
  {
   "cell_type": "code",
   "execution_count": 11,
   "metadata": {},
   "outputs": [
    {
     "data": {
      "text/plain": [
       "<matplotlib.figure.Figure at 0x7fa6b4256290>"
      ]
     },
     "metadata": {},
     "output_type": "display_data"
    },
    {
     "data": {
      "image/png": "[encoded data removed]",
      "text/plain": [
       "<matplotlib.figure.Figure at 0x7fa6b42d7cd0>"
      ]
     },
     "metadata": {},
     "output_type": "display_data"
    }
   ],
   "source": [
    "def plot_images(images, labels):\n",
    "    assert len(images) == len(labels) == 9\n",
    "    fig = plt.figure(figsize=(20,10))\n",
    "    fig, axes = plt.subplots(3, 3)\n",
    "    fig.subplots_adjust(hspace=1, wspace=1)\n",
    "\n",
    "    for i, ax in enumerate(axes.flat):\n",
    "        # Plot image.\n",
    "        ax.imshow(images.iloc[i])  \n",
    "\n",
    "        ax.set_xlabel(labels.iloc[i] + '- ' + map_labels[labels.iloc[i]])\n",
    "        \n",
    "        # Remove ticks from the plot.\n",
    "        ax.set_xticks([])\n",
    "        ax.set_yticks([])\n",
    "    \n",
    "    plt.show()\n",
    "    \n",
    "# Get 10 random images from the test-set.\n",
    "sample = test.sample(n=9)\n",
    "\n",
    "# Plot the images and labels using our helper-function above.\n",
    "plot_images(sample[\"images\"], sample[\"labels\"])\n"
   ]
  },
  {
   "cell_type": "markdown",
   "metadata": {},
   "source": [
    "### Data distribution"
   ]
  },
  {
   "cell_type": "code",
   "execution_count": 12,
   "metadata": {},
   "outputs": [
    {
     "data": {
      "image/png": "[encoded data removed]",
      "text/plain": [
       "<matplotlib.figure.Figure at 0x7fa6b429fed0>"
      ]
     },
     "metadata": {},
     "output_type": "display_data"
    }
   ],
   "source": [
    "fig = plt.figure(figsize=(20,10))\n",
    "fig.subplots_adjust(hspace=0.2, wspace=0.2)\n",
    "\n",
    "ax = fig.add_subplot(1, 2, 1)\n",
    "sns.countplot(train['labels'])\n",
    "plt.title('Data distribution for training image set')\n",
    "\n",
    "ax = fig.add_subplot(1, 2, 2)\n",
    "sns.countplot(test['labels'])\n",
    "plt.title('Data distribution for validation image set')\n",
    "\n",
    "plt.show()"
   ]
  },
  {
   "cell_type": "markdown",
   "metadata": {},
   "source": [
    "## Models\n",
    "\n",
    "### Transfer learning\n",
    "\n",
    "Transfer learning is a technique that takes a piece of a model that has already been trained on a related task and reuses it in a creation of a new model. This technique was the first choice for this classification problem because training a completely new model to classify images requires lots of time, processing power and a huge sample size.\n",
    "\n",
    "In order to train the model, author used a script located in './retrain.py' with following parameters:\n",
    "- --bottleneck_dir './retrained_model/bottlenecks'\n",
    "- --output_graph './retrained_model/output_graph.pb'\n",
    "- --image_dir './input/training'\n",
    "- --output_labels './retrained_model/output_labels.txt'\n",
    "\n",
    "Full command (takes around 30 minutes to complete):\n",
    "\n",
    "```console\n",
    "python retrain.py  --bottleneck_dir './retrained_model/bottlenecks' --output_graph './retrained_model/output_graph.pb' --image_dir './input/training' --output_labels './retrained_model/output_labels.txt'\n",
    "```\n",
    "\n",
    "Below 2 graphs are shown, the first one represents the change of accuracy during the training. And the second one represents the shifting of the cross entropy while training the model."
   ]
  },
  {
   "cell_type": "code",
   "execution_count": 13,
   "metadata": {},
   "outputs": [
    {
     "data": {
      "image/png": "[encoded data removed]",
      "text/plain": [
       "<IPython.core.display.Image object>"
      ]
     },
     "execution_count": 13,
     "metadata": {},
     "output_type": "execute_result"
    }
   ],
   "source": [
    "Image(\"./retrained_model/image_graphs/accuracy.png\")"
   ]
  },
  {
   "cell_type": "code",
   "execution_count": 14,
   "metadata": {},
   "outputs": [
    {
     "data": {
      "image/png": "[encoded data removed]",
      "text/plain": [
       "<IPython.core.display.Image object>"
      ]
     },
     "execution_count": 14,
     "metadata": {},
     "output_type": "execute_result"
    }
   ],
   "source": [
    "Image(\"./retrained_model/image_graphs/cross_entropy.png\")"
   ]
  },
  {
   "cell_type": "markdown",
   "metadata": {},
   "source": [
    "#### Transfer learning Validation\n",
    "\n",
    "Inspiration for validation was taken from: https://github.com/tensorflow/tensorflow/raw/master/tensorflow/examples/label_image/label_image.py\n",
    "\n",
    "The script runs previously trained model on every image in the validation set, while outputting the confidence level and the classification result after each image. Finally, at the end overall accuracy is printed out."
   ]
  },
  {
   "cell_type": "code",
   "execution_count": 51,
   "metadata": {},
   "outputs": [
    {
     "name": "stdout",
     "output_type": "stream",
     "text": [
      "('n5', 0.9989262, 'Correct!')\n",
      "('n2', 0.9944429, 'Correct!')\n",
      "('n8', 0.9980069, 'Correct!')\n",
      "('n3', 0.99845386, 'Correct!')\n",
      "('n9', 0.99805886, 'Correct!')\n",
      "('n0', 0.9630585, 'Correct!')\n",
      "('n3', 0.5865177, 'Correct!')\n",
      "('n1', 0.9997341, 'Correct!')\n",
      "('n6', 0.98952323, 'Correct!')\n",
      "('n6', 0.99246526, 'Correct!')\n",
      "('n2', 0.9742493, 'Correct!')\n",
      "('n9', 0.9327585, 'Correct!')\n",
      "('n4', 0.9878562, 'Correct!')\n",
      "('n4', 0.9988801, 'Correct!')\n",
      "('n9', 0.999746, 'Correct!')\n",
      "('n7', 0.9933975, 'Correct!')\n",
      "('n5', 0.9978643, 'Correct!')\n",
      "('n5', 0.99658966, 'Correct!')\n",
      "('n5', 0.9841192, 'Correct!')\n",
      "('n8', 0.99949944, 'Correct!')\n",
      "('n7', 0.98975545, 'Correct!')\n",
      "('n7', 0.99336725, 'Correct!')\n",
      "('n7', 0.9985769, 'Correct!')\n",
      "('n4', 0.9520374, 'Correct!')\n",
      "('n5', 0.99836355, 'Correct!')\n",
      "('n9', 0.99839777, 'Correct!')\n",
      "('n8', 0.99739206, 'Correct!')\n",
      "('n4', 0.96010375, 'Correct!')\n",
      "('n2', 0.8900044, 'Correct!')\n",
      "('n9', 0.9964349, 'Correct!')\n",
      "('n2', 0.9801696, 'Correct!')\n",
      "('n7', 0.99377584, 'Correct!')\n",
      "('n1', 0.999094, 'Correct!')\n",
      "('n0', 0.9995183, 'Correct!')\n",
      "('n9', 0.98815304, 'Correct!')\n",
      "('n3', 0.998447, 'Correct!')\n",
      "('n8', 0.99912685, 'Correct!')\n",
      "('n8', 0.9992149, 'Correct!')\n",
      "('n2', 0.99488574, 'Correct!')\n",
      "('n8', 0.98262906, 'Correct!')\n",
      "('n5', 0.963967, 'Correct!')\n",
      "('n4', 0.98982596, 'Correct!')\n",
      "('n0', 0.9993882, 'Correct!')\n",
      "('n8', 0.99745136, 'Correct!')\n",
      "('n0', 0.99877363, 'Correct!')\n",
      "('n1', 0.99991, 'Correct!')\n",
      "('n6', 0.91499585, 'Correct!')\n",
      "('n9', 0.9824259, 'Correct!')\n",
      "('n6', 0.9930937, 'Correct!')\n",
      "('n9', 0.99896884, 'Correct!')\n",
      "('n0', 0.97864693, 'Correct!')\n",
      "('n6', 0.9887579, 'Correct!')\n",
      "('n4', 0.9853763, 'Correct!')\n",
      "('n8', 0.99340546, 'Correct!')\n",
      "('n2', 0.94039476, 'Correct!')\n",
      "('n4', 0.99773335, 'Correct!')\n",
      "('n6', 0.98786515, 'Correct!')\n",
      "('n7', 0.996567, 'Correct!')\n",
      "('n4', 0.9977157, 'Correct!')\n",
      "('n1', 0.99992216, 'Correct!')\n",
      "('n2', 0.9925626, 'Correct!')\n",
      "('n7', 0.99309057, 'Correct!')\n",
      "('n7', 0.96504873, 'Correct!')\n",
      "('n1', 0.9963367, 'Correct!')\n",
      "('n5', 0.99720603, 'Correct!')\n",
      "('n0', 0.9978969, 'Correct!')\n",
      "('n2', 0.9925868, 'Correct!')\n",
      "('n3', 0.9585849, 'Correct!')\n",
      "('n7', 0.997387, 'Correct!')\n",
      "('n3', 0.99886996, 'Correct!')\n",
      "('n6', 0.5538675, 'False! -Correct was: ', 'n2', ' Path: ', 'input/validation/n2/n214.jpg')\n",
      "('n8', 0.99518174, 'Correct!')\n",
      "('n2', 0.90654683, 'Correct!')\n",
      "('n8', 0.9679653, 'Correct!')\n",
      "('n1', 0.9997596, 'Correct!')\n",
      "('n3', 0.9949024, 'Correct!')\n",
      "('n0', 0.99923444, 'Correct!')\n",
      "('n7', 0.9981487, 'Correct!')\n",
      "('n3', 0.9525007, 'Correct!')\n",
      "('n7', 0.9891452, 'Correct!')\n",
      "('n0', 0.99728394, 'Correct!')\n",
      "('n1', 0.9916066, 'Correct!')\n",
      "('n9', 0.99888736, 'Correct!')\n",
      "('n6', 0.992802, 'Correct!')\n",
      "('n5', 0.9867335, 'Correct!')\n",
      "('n1', 0.99973243, 'Correct!')\n",
      "('n9', 0.99039954, 'Correct!')\n",
      "('n4', 0.9838532, 'Correct!')\n",
      "('n6', 0.99301845, 'Correct!')\n",
      "('n8', 0.979569, 'Correct!')\n",
      "('n3', 0.9998204, 'Correct!')\n",
      "('n0', 0.9968702, 'Correct!')\n",
      "('n2', 0.9906962, 'Correct!')\n",
      "('n9', 0.87216043, 'Correct!')\n",
      "('n8', 0.967672, 'Correct!')\n",
      "('n0', 0.99815506, 'Correct!')\n",
      "('n9', 0.99854314, 'Correct!')\n",
      "('n4', 0.99698895, 'Correct!')\n",
      "('n9', 0.99986887, 'Correct!')\n",
      "('n6', 0.956964, 'Correct!')\n",
      "('n3', 0.9851459, 'Correct!')\n",
      "('n1', 0.99364024, 'Correct!')\n",
      "('n3', 0.9943234, 'Correct!')\n",
      "('n6', 0.9986651, 'Correct!')\n",
      "('n7', 0.99269944, 'Correct!')\n",
      "('n2', 0.96157897, 'Correct!')\n",
      "('n5', 0.963967, 'Correct!')\n",
      "('n0', 0.99981624, 'Correct!')\n",
      "('n2', 0.9607641, 'Correct!')\n",
      "('n1', 0.9062305, 'Correct!')\n",
      "('n3', 0.9953164, 'Correct!')\n",
      "('n0', 0.99820125, 'Correct!')\n",
      "('n9', 0.99655616, 'Correct!')\n",
      "('n2', 0.98470867, 'Correct!')\n",
      "('n6', 0.83550525, 'Correct!')\n",
      "('n4', 0.99967194, 'Correct!')\n",
      "('n5', 0.8940613, 'Correct!')\n",
      "('n6', 0.9836654, 'Correct!')\n",
      "('n3', 0.9906907, 'Correct!')\n",
      "('n6', 0.99246454, 'Correct!')\n",
      "('n3', 0.9986603, 'Correct!')\n",
      "('n3', 0.98365706, 'Correct!')\n",
      "('n5', 0.98668075, 'Correct!')\n",
      "('n6', 0.72589236, 'Correct!')\n",
      "('n0', 0.9984769, 'Correct!')\n",
      "('n4', 0.9905749, 'Correct!')\n",
      "('n6', 0.9862731, 'Correct!')\n",
      "('n9', 0.97538596, 'Correct!')\n",
      "('n5', 0.98373103, 'Correct!')\n",
      "('n2', 0.9820749, 'Correct!')\n",
      "('n8', 0.99646276, 'Correct!')\n",
      "('n8', 0.9586661, 'Correct!')\n",
      "('n3', 0.8835736, 'Correct!')\n",
      "('n7', 0.9973053, 'Correct!')\n",
      "('n4', 0.9990953, 'Correct!')\n",
      "('n4', 0.9980076, 'Correct!')\n",
      "('n9', 0.9953426, 'Correct!')\n",
      "('n8', 0.9523125, 'Correct!')\n",
      "('n7', 0.9874018, 'Correct!')\n",
      "('n4', 0.9938653, 'Correct!')\n",
      "('n5', 0.99500555, 'Correct!')\n",
      "('n8', 0.9988451, 'Correct!')\n",
      "('n1', 0.9946037, 'Correct!')\n",
      "('n9', 0.9802532, 'Correct!')\n",
      "('n3', 0.9541884, 'Correct!')\n",
      "('n6', 0.9822228, 'Correct!')\n",
      "('n1', 0.99364024, 'Correct!')\n",
      "('n4', 0.986971, 'Correct!')\n",
      "('n9', 0.99613154, 'Correct!')\n",
      "('n3', 0.99356407, 'Correct!')\n",
      "('n6', 0.9816768, 'Correct!')\n",
      "('n5', 0.9908919, 'Correct!')\n",
      "('n0', 0.99780315, 'Correct!')\n",
      "('n2', 0.8080878, 'Correct!')\n",
      "('n2', 0.99393713, 'Correct!')\n",
      "('n7', 0.9983224, 'Correct!')\n",
      "('n5', 0.99384516, 'Correct!')\n",
      "('n4', 0.97929364, 'Correct!')\n",
      "('n3', 0.97228277, 'Correct!')\n",
      "('n5', 0.99778616, 'Correct!')\n",
      "('n8', 0.68979317, 'Correct!')\n",
      "('n1', 0.99940884, 'Correct!')\n",
      "('n6', 0.9869502, 'Correct!')\n",
      "('n8', 0.9972288, 'Correct!')\n",
      "('n1', 0.9995702, 'Correct!')\n",
      "('n1', 0.9997111, 'Correct!')\n",
      "('n2', 0.8761715, 'Correct!')\n",
      "('n3', 0.9713127, 'Correct!')\n",
      "('n0', 0.99955994, 'Correct!')\n",
      "('n6', 0.96575946, 'Correct!')\n",
      "('n0', 0.9987054, 'Correct!')\n",
      "('n8', 0.99844724, 'Correct!')\n",
      "('n4', 0.9929589, 'Correct!')\n",
      "('n2', 0.7781805, 'Correct!')\n",
      "('n5', 0.97279954, 'Correct!')\n",
      "('n9', 0.9943711, 'Correct!')\n",
      "('n3', 0.9688805, 'Correct!')\n",
      "('n9', 0.9941924, 'Correct!')\n",
      "('n9', 0.9980075, 'Correct!')\n",
      "('n4', 0.97959864, 'Correct!')\n",
      "('n7', 0.9888293, 'Correct!')\n",
      "('n7', 0.99517196, 'Correct!')\n",
      "('n2', 0.94060194, 'Correct!')\n",
      "('n2', 0.98481435, 'Correct!')\n",
      "('n1', 0.99477035, 'Correct!')\n",
      "('n3', 0.9991234, 'Correct!')\n",
      "('n1', 0.99988127, 'Correct!')\n",
      "('n4', 0.9992836, 'Correct!')\n",
      "('n8', 0.9998109, 'Correct!')\n",
      "('n3', 0.99177164, 'Correct!')\n",
      "('n3', 0.9008329, 'Correct!')\n",
      "('n8', 0.99484915, 'Correct!')\n",
      "('n1', 0.93810165, 'Correct!')\n",
      "('n5', 0.99493635, 'Correct!')\n",
      "('n1', 0.99890506, 'Correct!')\n",
      "('n7', 0.986747, 'Correct!')\n",
      "('n4', 0.9970285, 'Correct!')\n",
      "('n7', 0.9564723, 'Correct!')\n",
      "('n5', 0.9981629, 'Correct!')\n",
      "('n7', 0.9841145, 'Correct!')\n",
      "('n0', 0.9999224, 'Correct!')\n",
      "('n9', 0.9663825, 'Correct!')\n",
      "('n7', 0.99325526, 'Correct!')\n",
      "('n6', 0.96073294, 'Correct!')\n",
      "('n4', 0.9746606, 'Correct!')\n",
      "('n5', 0.9945867, 'Correct!')\n",
      "('n6', 0.89927155, 'Correct!')\n",
      "('n0', 0.99942374, 'Correct!')\n",
      "('n0', 0.9931765, 'Correct!')\n",
      "('n6', 0.9993173, 'Correct!')\n",
      "('n1', 0.9078871, 'Correct!')\n",
      "('n5', 0.9544735, 'Correct!')\n",
      "('n3', 0.97107434, 'Correct!')\n",
      "('n6', 0.9973738, 'Correct!')\n",
      "('n0', 0.98198503, 'Correct!')\n",
      "('n7', 0.9974867, 'Correct!')\n",
      "('n3', 0.98653036, 'Correct!')\n",
      "('n0', 0.997227, 'Correct!')\n",
      "('n3', 0.9838284, 'Correct!')\n",
      "('n6', 0.99344784, 'Correct!')\n",
      "('n9', 0.9721016, 'Correct!')\n",
      "('n3', 0.9963568, 'Correct!')\n",
      "('n4', 0.98183733, 'Correct!')\n",
      "('n2', 0.96175146, 'Correct!')\n",
      "('n2', 0.9755045, 'Correct!')\n",
      "('n9', 0.87213105, 'Correct!')\n",
      "('n1', 0.9963367, 'Correct!')\n",
      "('n9', 0.9675495, 'Correct!')\n",
      "('n1', 0.9990773, 'Correct!')\n",
      "('n3', 0.99884677, 'Correct!')\n",
      "('n4', 0.9825419, 'Correct!')\n",
      "('n1', 0.99981374, 'Correct!')\n",
      "('n1', 0.99986815, 'Correct!')\n",
      "('n0', 0.9993882, 'Correct!')\n",
      "('n0', 0.9900752, 'Correct!')\n",
      "('n5', 0.7159851, 'Correct!')\n",
      "('n2', 0.99383104, 'Correct!')\n",
      "('n7', 0.99600536, 'Correct!')\n",
      "('n2', 0.9986376, 'Correct!')\n",
      "('n8', 0.9974564, 'Correct!')\n",
      "('n8', 0.99803, 'Correct!')\n",
      "('n1', 0.9993824, 'Correct!')\n",
      "('n3', 0.9987276, 'Correct!')\n",
      "('n0', 0.9998548, 'Correct!')\n",
      "('n1', 0.9821308, 'Correct!')\n",
      "('n6', 0.98562694, 'Correct!')\n",
      "('n5', 0.94524306, 'Correct!')\n",
      "('n1', 0.9997423, 'Correct!')\n",
      "('n4', 0.9824995, 'Correct!')\n",
      "('n2', 0.9982272, 'Correct!')\n",
      "('n9', 0.9845985, 'Correct!')\n",
      "('n0', 0.99973387, 'Correct!')\n",
      "('n8', 0.9984256, 'Correct!')\n",
      "('n8', 0.9984169, 'Correct!')\n",
      "('n7', 0.99227613, 'Correct!')\n",
      "('n8', 0.8424988, 'Correct!')\n",
      "('n7', 0.9966832, 'Correct!')\n",
      "('n5', 0.99682957, 'Correct!')\n",
      "('n7', 0.99806195, 'Correct!')\n",
      "('n5', 0.99834144, 'Correct!')\n",
      "('n5', 0.9810004, 'Correct!')\n",
      "('n3', 0.94588524, 'Correct!')\n",
      "('n4', 0.9669052, 'Correct!')\n",
      "('n0', 0.9998504, 'Correct!')\n",
      "('n1', 0.9931212, 'Correct!')\n",
      "('n8', 0.9995695, 'Correct!')\n",
      "('n5', 0.7161684, 'Correct!')\n",
      "('n5', 0.9908958, 'Correct!')\n"
     ]
    },
    {
     "name": "stdout",
     "output_type": "stream",
     "text": [
      "('n7', 0.9971413, 'Correct!')\n",
      "('n2', 0.9870739, 'Correct!')\n",
      "('n6', 0.96839607, 'Correct!')\n",
      "('n7', 0.99861586, 'Correct!')\n"
     ]
    }
   ],
   "source": [
    "def load_labels(label_file):\n",
    "    label = []\n",
    "    proto_as_ascii_lines = tf.gfile.GFile(label_file).readlines()\n",
    "    for l in proto_as_ascii_lines:\n",
    "        label.append(l.rstrip())\n",
    "    return label\n",
    "\n",
    "def read_tensor_from_image_file(file_name,\n",
    "                                input_height=299,\n",
    "                                input_width=299,\n",
    "                                input_mean=0,\n",
    "                                input_std=255):\n",
    "    input_name = \"file_reader\"\n",
    "    output_name = \"normalized\"\n",
    "    file_reader = tf.read_file(file_name, input_name)\n",
    "   \n",
    "    image_reader = tf.image.decode_jpeg(file_reader, channels=3, name=\"jpeg_reader\")\n",
    "    \n",
    "    float_caster = tf.cast(image_reader, tf.float32)\n",
    "    dims_expander = tf.expand_dims(float_caster, 0)\n",
    "    resized = tf.image.resize_bilinear(dims_expander, [input_height, input_width])\n",
    "    normalized = tf.divide(tf.subtract(resized, [input_mean]), [input_std])\n",
    "    sess = tf.Session()\n",
    "    result = sess.run(normalized)\n",
    "    \n",
    "    return result\n",
    "\n",
    "model_file = 'retrained_model/output_graph.pb'\n",
    "label_file = 'retrained_model/output_labels.txt'\n",
    "input_layer = 'Placeholder'\n",
    "output_layer = 'final_result'\n",
    "\n",
    "#load graph\n",
    "graph = tf.Graph()\n",
    "graph_def = tf.GraphDef()\n",
    "with open(model_file, \"rb\") as f:\n",
    "    graph_def.ParseFromString(f.read())\n",
    "with graph.as_default():\n",
    "    tf.import_graph_def(graph_def)\n",
    "\n",
    "input_name = \"import/\" + input_layer\n",
    "output_name = \"import/\" + output_layer\n",
    "input_operation = graph.get_operation_by_name(input_name)\n",
    "output_operation = graph.get_operation_by_name(output_name)\n",
    "\n",
    "labels = load_labels(label_file)\n",
    "\n",
    "#shuffle test dataframe\n",
    "test_Tlearning = test.sample(frac=1)\n",
    "correct = 0  \n",
    "preds = []\n",
    "for index, row in test_Tlearning.iterrows():\n",
    "    t = read_tensor_from_image_file(row[\"path\"])\n",
    "\n",
    "    with tf.Session(graph=graph) as sess:\n",
    "        results = sess.run(output_operation.outputs[0], {\n",
    "            input_operation.outputs[0]: t\n",
    "        })\n",
    "    results = np.squeeze(results)\n",
    "    \n",
    "    top_k = results.argsort()[-1:][::-1]\n",
    "    for i in top_k:\n",
    "        preds.append(labels[i])\n",
    "        if (labels[i] == row[\"labels\"]):\n",
    "            print(labels[i], results[i], \"Correct!\")\n",
    "            correct = correct + 1\n",
    "        else:\n",
    "            print(labels[i], results[i], \"False! -Correct was: \", row[\"labels\"], \" Path: \", row[\"path\"])\n",
    "    "
   ]
  },
  {
   "cell_type": "code",
   "execution_count": 52,
   "metadata": {},
   "outputs": [
    {
     "name": "stdout",
     "output_type": "stream",
     "text": [
      "('Accuracy: ', 0.9963235294117647)\n"
     ]
    }
   ],
   "source": [
    "acc = correct / len(test_Tlearning)\n",
    "print(\"Accuracy: \", acc)"
   ]
  },
  {
   "cell_type": "code",
   "execution_count": 54,
   "metadata": {},
   "outputs": [
    {
     "data": {
      "image/png": "[encoded data removed]",
      "text/plain": [
       "<matplotlib.figure.Figure at 0x7f67709aadd0>"
      ]
     },
     "metadata": {},
     "output_type": "display_data"
    }
   ],
   "source": [
    "cls_true = test_Tlearning['labels']\n",
    "    \n",
    "cls_pred = preds\n",
    "\n",
    "cm = metrics.confusion_matrix(y_true=cls_true,\n",
    "                          y_pred=cls_pred)\n",
    "plt.figure(figsize=(10,5))\n",
    "plt.imshow(cm, interpolation='nearest', cmap=plt.cm.Blues)\n",
    "\n",
    "plt.tight_layout()\n",
    "plt.colorbar()\n",
    "tick_marks = np.arange(10)\n",
    "plt.xticks(tick_marks, range(10))\n",
    "plt.yticks(tick_marks, range(10))\n",
    "plt.xlabel(\"Predicted label\\naccuracy={:0.4f}\\n misclass={:0.4f}\".format(acc, 1-acc))\n",
    "plt.ylabel('True')\n",
    "\n",
    "plt.show()"
   ]
  },
  {
   "cell_type": "markdown",
   "metadata": {},
   "source": [
    "It is clearly visible that retrained model is performing extremely well- misclassifying only one instance from the validation image set. Thus, the final accuracy is 0.9963."
   ]
  },
  {
   "cell_type": "markdown",
   "metadata": {},
   "source": [
    "## Linear model\n",
    "\n",
    "A linear classifier uses object's features to identify which class it belongs to by making a classification decision based on the value of a linear combination of the characteristics. Such classifiers work well generally for problems with many features, reaching accuracy levels comparable to non-linear classifiers while taking less time to train and use. Although image classification is typically too complex for a simple linear classifier, the author chose to explore its intricacies as it provided great learning experience because of the variety techniques used.\n",
    "\n",
    "Below a simple linear classifier is defined with expected features (shape included), number of classes and directory of the model."
   ]
  },
  {
   "cell_type": "code",
   "execution_count": 21,
   "metadata": {},
   "outputs": [
    {
     "name": "stdout",
     "output_type": "stream",
     "text": [
      "INFO:tensorflow:Using default config.\n",
      "INFO:tensorflow:Using config: {'_save_checkpoints_secs': 600, '_session_config': None, '_keep_checkpoint_max': 5, '_task_type': 'worker', '_global_id_in_cluster': 0, '_is_chief': True, '_cluster_spec': <tensorflow.python.training.server_lib.ClusterSpec object at 0x7fa6557ce110>, '_evaluation_master': '', '_save_checkpoints_steps': None, '_keep_checkpoint_every_n_hours': 10000, '_service': None, '_num_ps_replicas': 0, '_tf_random_seed': None, '_master': '', '_num_worker_replicas': 1, '_task_id': 0, '_log_step_count_steps': 100, '_model_dir': './linear_model', '_save_summary_steps': 100}\n"
     ]
    }
   ],
   "source": [
    "feature_columns = [tf.feature_column.numeric_column('images', shape=[150,150,3])]\n",
    "\n",
    "classifier = tf.estimator.LinearClassifier(\n",
    "    feature_columns=feature_columns,\n",
    "    n_classes=10,\n",
    "    model_dir='./linear_model'\n",
    ")\n",
    "\n",
    "# image batch size\n",
    "BATCH_SIZE = 40\n",
    "TRAIN_STEPS = 1"
   ]
  },
  {
   "cell_type": "markdown",
   "metadata": {},
   "source": [
    "Then the function \"generate_input_fn()\" is defined, it generates an expected \"input_fn()\" function for training and validating the classifier. This function takes in the \"train\" or \"test\" data frame and the batch size. It reads the image data from the disk, does some image reshaping and rescaling and coverts the images and expected labels to tensors. Finally it returns the images and corresponding label batches."
   ]
  },
  {
   "cell_type": "code",
   "execution_count": 22,
   "metadata": {
    "collapsed": true
   },
   "outputs": [],
   "source": [
    "def generate_input_fn(df, batch_size):\n",
    "    def input_fn():\n",
    "        image_list, label_list = df[\"path\"].tolist(), df[\"int\"].tolist()\n",
    "\n",
    "        def read_images_from_disk(input_queue):\n",
    "            label = input_queue[1]\n",
    "            file_contents = tf.read_file(input_queue[0])\n",
    "            example = tf.image.decode_jpeg(file_contents, channels=3)\n",
    "            example = tf.image.resize_images(example, [150, 150])\n",
    "            example = tf.reshape(example, [150, 150, 3]) \n",
    "            return example, label\n",
    "\n",
    "        images = tf.convert_to_tensor(image_list, dtype=tf.string)\n",
    "        labels = tf.convert_to_tensor(label_list, dtype=tf.int32)\n",
    "\n",
    "        # Makes an input queue\n",
    "        input_queue = tf.train.slice_input_producer([images, labels], shuffle=True)\n",
    "\n",
    "        image, label = read_images_from_disk(input_queue)\n",
    "        image_batch, label_batch = tf.train.batch([image, label], batch_size=batch_size)\n",
    "        return {'images':  image_batch}, label_batch\n",
    "    return input_fn"
   ]
  },
  {
   "cell_type": "markdown",
   "metadata": {},
   "source": [
    "Procedure to train the classifier."
   ]
  },
  {
   "cell_type": "code",
   "execution_count": 23,
   "metadata": {},
   "outputs": [
    {
     "name": "stdout",
     "output_type": "stream",
     "text": [
      "INFO:tensorflow:Calling model_fn.\n",
      "INFO:tensorflow:Done calling model_fn.\n",
      "INFO:tensorflow:Create CheckpointSaverHook.\n",
      "INFO:tensorflow:Graph was finalized.\n",
      "INFO:tensorflow:Restoring parameters from ./linear_model/model.ckpt-202\n",
      "INFO:tensorflow:Running local_init_op.\n",
      "INFO:tensorflow:Done running local_init_op.\n",
      "INFO:tensorflow:Saving checkpoints for 203 into ./linear_model/model.ckpt.\n",
      "INFO:tensorflow:loss = 1265310.8, step = 203\n",
      "INFO:tensorflow:Loss for final step: 1265310.8.\n"
     ]
    },
    {
     "data": {
      "text/plain": [
       "<tensorflow.python.estimator.canned.linear.LinearClassifier at 0x7fa6566e4490>"
      ]
     },
     "execution_count": 23,
     "metadata": {},
     "output_type": "execute_result"
    }
   ],
   "source": [
    "classifier.train(\n",
    "    input_fn=generate_input_fn(train, BATCH_SIZE),\n",
    "    steps=TRAIN_STEPS\n",
    ")"
   ]
  },
  {
   "cell_type": "markdown",
   "metadata": {},
   "source": [
    "#### Linear classifier validation\n",
    "\n",
    "As expected linear classifier performed very poorly, averaging around 0.3 accuracy, however it still performed better than random guessing. Also, the performance might further be improved by tweaking the options."
   ]
  },
  {
   "cell_type": "code",
   "execution_count": 24,
   "metadata": {},
   "outputs": [
    {
     "name": "stdout",
     "output_type": "stream",
     "text": [
      "INFO:tensorflow:Calling model_fn.\n",
      "INFO:tensorflow:Done calling model_fn.\n",
      "INFO:tensorflow:Starting evaluation at 2018-04-16-19:03:11\n",
      "INFO:tensorflow:Graph was finalized.\n",
      "INFO:tensorflow:Restoring parameters from ./linear_model/model.ckpt-203\n",
      "INFO:tensorflow:Running local_init_op.\n",
      "INFO:tensorflow:Done running local_init_op.\n",
      "INFO:tensorflow:Evaluation [10/100]\n",
      "INFO:tensorflow:Evaluation [20/100]\n",
      "INFO:tensorflow:Evaluation [30/100]\n",
      "INFO:tensorflow:Evaluation [40/100]\n",
      "INFO:tensorflow:Evaluation [50/100]\n",
      "INFO:tensorflow:Evaluation [60/100]\n",
      "INFO:tensorflow:Evaluation [70/100]\n",
      "INFO:tensorflow:Evaluation [80/100]\n",
      "INFO:tensorflow:Evaluation [90/100]\n",
      "INFO:tensorflow:Evaluation [100/100]\n",
      "INFO:tensorflow:Finished evaluation at 2018-04-16-19:04:32\n",
      "INFO:tensorflow:Saving dict for global step 203: accuracy = 0.36625, average_loss = 58774.465, global_step = 203, loss = 2350978.5\n"
     ]
    },
    {
     "data": {
      "text/plain": [
       "{'accuracy': 0.36625,\n",
       " 'average_loss': 58774.465,\n",
       " 'global_step': 203,\n",
       " 'loss': 2350978.5}"
      ]
     },
     "execution_count": 24,
     "metadata": {},
     "output_type": "execute_result"
    }
   ],
   "source": [
    "classifier.evaluate(\n",
    "    input_fn=generate_input_fn(test, BATCH_SIZE),\n",
    "    steps=100\n",
    ")"
   ]
  },
  {
   "cell_type": "markdown",
   "metadata": {},
   "source": [
    "### Convolutional Neural Networks"
   ]
  },
  {
   "cell_type": "code",
   "execution_count": null,
   "metadata": {
    "collapsed": true
   },
   "outputs": [],
   "source": []
  },
  {
   "cell_type": "markdown",
   "metadata": {},
   "source": [
    "## Evaluation"
   ]
  },
  {
   "cell_type": "code",
   "execution_count": null,
   "metadata": {},
   "outputs": [],
   "source": []
  },
  {
   "cell_type": "markdown",
   "metadata": {},
   "source": [
    "## Conclusion \n",
    "\n",
    "To summarize, the 10 Monkey Species image dataset was examined in order to solve the 10 way classification problem - deducing to which class does a given image belong to. While analyzing the image dataset author faced with various new challenges, such as importing images, preprocessing (reshaping, rescaling etc) images, transforming data to tensors, as well as, preparing, training and validating the classifiers.\n",
    "\n",
    "Moreover, new data frame was created for each, training and testing image sets. These data frames were used to assist further image dataset analysis. Their features included:\n",
    "\n",
    "- Image paths;\n",
    "- Image representations (array);\n",
    "- Image labels;\n",
    "- Image integer encoded labels;\n",
    "- Image one hot encoded labels.\n",
    "\n",
    "Few different image classifiers were implemented and their accuracy scores were compared.The retrained model classifier had an edge over linear classifier with an average accuracy score of 0.996.\n",
    "\n",
    "Finally, this project was a valuable learning experience for the author, who learned how to cope with TensorFlow data manipulation, visualization, and analysis techniques. The issue of discovering the most appropriate methods for image dataset analysis, for example, proved to be both engaging and challenging. Along with the latter insights, the author also had an opportunity to improve Python coding principles."
   ]
  },
  {
   "cell_type": "code",
   "execution_count": null,
   "metadata": {
    "collapsed": true
   },
   "outputs": [],
   "source": []
  }
 ],
 "metadata": {
  "kernelspec": {
   "display_name": "Python 2",
   "language": "python",
   "name": "python2"
  },
  "language_info": {
   "codemirror_mode": {
    "name": "ipython",
    "version": 2
   },
   "file_extension": ".py",
   "mimetype": "text/x-python",
   "name": "python",
   "nbconvert_exporter": "python",
   "pygments_lexer": "ipython2",
   "version": "2.7.13"
  }
 },
 "nbformat": 4,
 "nbformat_minor": 2
}
